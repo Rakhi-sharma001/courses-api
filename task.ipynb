{
  "nbformat": 4,
  "nbformat_minor": 0,
  "metadata": {
    "colab": {
      "provenance": [],
      "authorship_tag": "ABX9TyO0+IyuA1fTQXmFdNRI99Cf",
      "include_colab_link": true
    },
    "kernelspec": {
      "name": "python3",
      "display_name": "Python 3"
    },
    "language_info": {
      "name": "python"
    }
  },
  "cells": [
    {
      "cell_type": "markdown",
      "metadata": {
        "id": "view-in-github",
        "colab_type": "text"
      },
      "source": [
        "<a href=\"https://colab.research.google.com/github/Rakhi-sharma001/courses-api/blob/main/task.ipynb\" target=\"_parent\"><img src=\"https://colab.research.google.com/assets/colab-badge.svg\" alt=\"Open In Colab\"/></a>"
      ]
    },
    {
      "cell_type": "markdown",
      "source": [
        "Question 1: By default are django signals executed synchronously or asynchronously? Please support your answer with a code snippet that conclusively proves your stance. The code does not need to be elegant and production ready, we just need to understand your logic.\n"
      ],
      "metadata": {
        "id": "9ZiN-DB8wto9"
      }
    },
    {
      "cell_type": "code",
      "source": [
        "import time\n",
        "\n",
        "def my_function():\n",
        "    print(\"Starting my_function\")\n",
        "    time.sleep(3)  # Simulate a time-consuming task\n",
        "    print(\"Ending my_function\")\n",
        "\n",
        "print(\"Before calling my_function\")\n",
        "my_function()\n",
        "print(\"After calling my_function\")"
      ],
      "metadata": {
        "colab": {
          "base_uri": "https://localhost:8080/"
        },
        "id": "anywOXrF5MoV",
        "outputId": "cc66d41e-20f2-4952-9bac-2965f94caf3d"
      },
      "execution_count": null,
      "outputs": [
        {
          "output_type": "stream",
          "name": "stdout",
          "text": [
            "Before calling my_function\n",
            "Starting my_function\n",
            "Ending my_function\n",
            "After calling my_function\n"
          ]
        }
      ]
    },
    {
      "cell_type": "markdown",
      "source": [
        " By Default, Django signals executed \"synchronously\".\n",
        " Here, (my_function) simulates a task that takes some time to complete using time.sleep(3).\n",
        "The code first prints \"Before calling my_function\".Then it calls my_function, which prints \"Starting my_function\" waits for 3 seconds and prints \"Ending my_function\".Finally, it prints \"After calling my_function\".\n",
        "we will notice that the output shows the messages in the order they are executed. The program waits for my_function to finish completely before moving on to the next line. This demonstrates synchronous execution, where tasks are performed one after the other blocking the main thread until each task is done."
      ],
      "metadata": {
        "id": "2mBPTZC2wyrX"
      }
    },
    {
      "cell_type": "markdown",
      "source": [
        "Question 2: Do django signals run in the same thread as the caller? Please support your answer with a code snippet that conclusively proves your stance. The code does not need to be elegant and production ready, we just need to understand your logic.\n"
      ],
      "metadata": {
        "id": "rsCRAM2bxhn9"
      }
    },
    {
      "cell_type": "code",
      "source": [
        "import time\n",
        "\n",
        "def signal_handler():\n",
        "    print(\"Signal received, starting a task...\")\n",
        "    time.sleep(3)\n",
        "    print(\"Task finished.\")\n",
        "\n",
        "print(\"Before triggering the signal\")\n",
        "signal_handler()\n",
        "print(\"After triggering the signal\")"
      ],
      "metadata": {
        "id": "2ZuyK__LyGkX",
        "colab": {
          "base_uri": "https://localhost:8080/"
        },
        "outputId": "f38b45f0-bf70-4787-e918-496ea34e1b08"
      },
      "execution_count": null,
      "outputs": [
        {
          "output_type": "stream",
          "name": "stdout",
          "text": [
            "Before triggering the signal\n",
            "Signal received, starting a task...\n",
            "Task finished.\n",
            "After triggering the signal\n"
          ]
        }
      ]
    },
    {
      "cell_type": "markdown",
      "source": [
        "As we can see that the messages print in a sequential order, indicating that the main code waits for the signal_handler (representing a Django signal handler) to complete before moving on. This behavior, where the signal handler and the caller share the same thread, is what we mean when we say Django signals are synchronous and run in the same thread as the caller."
      ],
      "metadata": {
        "id": "2jlVMLRC_J-0"
      }
    },
    {
      "cell_type": "markdown",
      "source": [
        "Question 3: By default do django signals run in the same database transaction as the caller? Please support your answer with a code snippet that conclusively proves your stance. The code does not need to be elegant and production ready, we just need to understand your logic.\n"
      ],
      "metadata": {
        "id": "Wbdx9W3K_VQK"
      }
    },
    {
      "cell_type": "code",
      "source": [
        "def signal_handler():\n",
        "    print(\"Signal received, adding a free item to the cart...\")\n",
        "    # Code to update the database, adding a free item\n",
        "\n",
        "print(\"Starting a transaction (shopping cart)...\")\n",
        "# Code to start a database transaction\n",
        "print(\"Adding items to the cart...\")\n",
        "# Code to create or update database objects\n",
        "signal_handler()  # this is triggered by a Django signal\n",
        "print(\"Proceeding to checkout...\")\n",
        "# Code to continue the transaction\n",
        "# If an exception occurs here, the entire transaction is rolled back\n",
        "print(\"Transaction complete (successful checkout)!\")"
      ],
      "metadata": {
        "colab": {
          "base_uri": "https://localhost:8080/"
        },
        "id": "XiBHLbzb_UsL",
        "outputId": "f1b2a3e8-be25-4645-bd9d-3594a3f39e9a"
      },
      "execution_count": null,
      "outputs": [
        {
          "output_type": "stream",
          "name": "stdout",
          "text": [
            "Starting a transaction (shopping cart)...\n",
            "Adding items to the cart...\n",
            "Signal received, adding a free item to the cart...\n",
            "Proceeding to checkout...\n",
            "Transaction complete (successful checkout)!\n"
          ]
        }
      ]
    },
    {
      "cell_type": "markdown",
      "source": [
        "In this example, if an exception occurs during checkout the entire transaction including the addition of the free item by the signal handler would be rolled back. This demonstrates that the signal handler's database operations were part of the same transaction as the caller's operations."
      ],
      "metadata": {
        "id": "NchC2mKTACPo"
      }
    },
    {
      "cell_type": "markdown",
      "source": [
        "Description: You are tasked with creating a Rectangle class with the following requirements:\n",
        "\n",
        "An instance of the Rectangle class requires length:int and width:int to be initialized.\n",
        "We can iterate over an instance of the Rectangle class\n",
        "When an instance of the Rectangle class is iterated over, we first get its length in the format: {'length': <VALUE_OF_LENGTH>} followed by the width {width: <VALUE_OF_WIDTH>}\n"
      ],
      "metadata": {
        "id": "JsEFZuJTAPZd"
      }
    },
    {
      "cell_type": "code",
      "source": [
        "class Rectangle:\n",
        "    def __init__(self, length: int, width: int):\n",
        "        self.length = length\n",
        "        self.width = width\n",
        "\n",
        "    def __iter__(self):\n",
        "        yield {'length': self.length}\n",
        "        yield {'width': self.width}\n",
        "rectangle = Rectangle(5, 3)\n",
        "\n",
        "for dimension in rectangle:\n",
        "    print(dimension)"
      ],
      "metadata": {
        "colab": {
          "base_uri": "https://localhost:8080/"
        },
        "id": "CxwRgPRaAR1V",
        "outputId": "e47e0d7c-c4fd-4313-c10d-4d1846dff460"
      },
      "execution_count": null,
      "outputs": [
        {
          "output_type": "stream",
          "name": "stdout",
          "text": [
            "{'length': 5}\n",
            "{'width': 3}\n"
          ]
        }
      ]
    }
  ]
}